{
 "cells": [
  {
   "cell_type": "code",
   "execution_count": 1,
   "id": "342bf6a1-5a30-451d-878d-26999060a874",
   "metadata": {},
   "outputs": [],
   "source": [
    "from firstlibrary import SubfieldsinAI"
   ]
  },
  {
   "cell_type": "code",
   "execution_count": 3,
   "id": "8d6cb6fd-b090-4311-b658-26b4e047f8da",
   "metadata": {},
   "outputs": [
    {
     "name": "stdout",
     "output_type": "stream",
     "text": [
      "Sub-Fields in AI are:\n",
      "Machine Learning\n",
      "Neural Networks\n",
      "Vision\n",
      "Robotics\n",
      "Speech Processing\n",
      "Natural Language Processing\n"
     ]
    }
   ],
   "source": [
    "SubfieldsinAI.Subfields()"
   ]
  },
  {
   "cell_type": "code",
   "execution_count": 1,
   "id": "6f5f53ae-a6a3-494b-8bb9-2ef7035a83bd",
   "metadata": {},
   "outputs": [],
   "source": [
    "from firstlibrary import OddEven"
   ]
  },
  {
   "cell_type": "code",
   "execution_count": 3,
   "id": "8671b4f2-5c6b-4b5f-984e-97b9187d1d5f",
   "metadata": {},
   "outputs": [
    {
     "name": "stdin",
     "output_type": "stream",
     "text": [
      "Enter the number: 5242\n"
     ]
    },
    {
     "name": "stdout",
     "output_type": "stream",
     "text": [
      "The number is EVEN\n"
     ]
    },
    {
     "data": {
      "text/plain": [
       "'Even Number'"
      ]
     },
     "execution_count": 3,
     "metadata": {},
     "output_type": "execute_result"
    }
   ],
   "source": [
    "OddEven.Oddeven()"
   ]
  },
  {
   "cell_type": "code",
   "execution_count": 1,
   "id": "905e146b-7c5f-4646-bc04-cb083419ba9f",
   "metadata": {},
   "outputs": [],
   "source": [
    "from firstlibrary import eligibility"
   ]
  },
  {
   "cell_type": "code",
   "execution_count": 3,
   "id": "7ba8f387-a32a-4327-8bdd-20142ff74474",
   "metadata": {},
   "outputs": [
    {
     "name": "stdin",
     "output_type": "stream",
     "text": [
      "Enter your Gender: Male\n",
      "Enter your Age: 22\n"
     ]
    },
    {
     "name": "stdout",
     "output_type": "stream",
     "text": [
      "Eligible for Marriage\n"
     ]
    }
   ],
   "source": [
    "eligibility.MarriageEligibility()"
   ]
  },
  {
   "cell_type": "code",
   "execution_count": 5,
   "id": "1e05abe8-ae91-40cd-85af-51f555654bae",
   "metadata": {},
   "outputs": [],
   "source": [
    "from firstlibrary import tenthpercentage"
   ]
  },
  {
   "cell_type": "code",
   "execution_count": 7,
   "id": "ec29e98c-ae63-4145-87fa-a13433c126bd",
   "metadata": {},
   "outputs": [
    {
     "name": "stdin",
     "output_type": "stream",
     "text": [
      "Subject1= 98\n",
      "Subject2= 87\n",
      "Subject3= 95\n",
      "Subject4= 95\n",
      "Subject5= 93\n"
     ]
    },
    {
     "name": "stdout",
     "output_type": "stream",
     "text": [
      "Total= 468\n",
      "Percentage: 93.6\n"
     ]
    }
   ],
   "source": [
    "tenthpercentage.percentage()"
   ]
  },
  {
   "cell_type": "code",
   "execution_count": 9,
   "id": "207ad0c6-22ac-4290-b5db-3a8670fcf4f2",
   "metadata": {},
   "outputs": [],
   "source": [
    "from firstlibrary import triangleattributes"
   ]
  },
  {
   "cell_type": "code",
   "execution_count": 13,
   "id": "1286de2b-d50d-4c30-beac-08d8ff53ee84",
   "metadata": {},
   "outputs": [
    {
     "name": "stdin",
     "output_type": "stream",
     "text": [
      "Height: 32\n",
      "Breadth 34\n"
     ]
    },
    {
     "name": "stdout",
     "output_type": "stream",
     "text": [
      "Area Formula:(Height*Breadth)/2\n",
      "Area of the Triangle: 544.0\n"
     ]
    },
    {
     "name": "stdin",
     "output_type": "stream",
     "text": [
      "Height1: 2\n",
      "Height2: 4\n",
      "Breadth: 4\n"
     ]
    },
    {
     "name": "stdout",
     "output_type": "stream",
     "text": [
      "Perimeter formula:Height1+Height2+Breadth\n",
      "Perimeter of the Triangle: 10\n"
     ]
    }
   ],
   "source": [
    "triangleattributes.Triangle()"
   ]
  },
  {
   "cell_type": "code",
   "execution_count": null,
   "id": "53b69236-f3bc-462b-bcff-41b9b579e3bd",
   "metadata": {},
   "outputs": [],
   "source": []
  }
 ],
 "metadata": {
  "kernelspec": {
   "display_name": "Python 3 (ipykernel)",
   "language": "python",
   "name": "python3"
  },
  "language_info": {
   "codemirror_mode": {
    "name": "ipython",
    "version": 3
   },
   "file_extension": ".py",
   "mimetype": "text/x-python",
   "name": "python",
   "nbconvert_exporter": "python",
   "pygments_lexer": "ipython3",
   "version": "3.11.7"
  }
 },
 "nbformat": 4,
 "nbformat_minor": 5
}
