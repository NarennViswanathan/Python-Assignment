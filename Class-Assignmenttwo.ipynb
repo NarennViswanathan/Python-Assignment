{
 "cells": [
  {
   "cell_type": "code",
   "execution_count": 5,
   "id": "31f4415d-9e2d-43d9-8371-2220c0cec61f",
   "metadata": {},
   "outputs": [],
   "source": [
    "from firstlibrary import Assignments"
   ]
  },
  {
   "cell_type": "code",
   "execution_count": 7,
   "id": "746ef4ac-1209-424b-bcb5-f082f7d18b66",
   "metadata": {},
   "outputs": [
    {
     "name": "stdout",
     "output_type": "stream",
     "text": [
      "Sub-Fields in AI are:\n",
      "Machine Learning\n",
      "Neural Networks\n",
      "Vision\n",
      "Robotics\n",
      "Speech Processing\n",
      "Natural Language Processing\n"
     ]
    }
   ],
   "source": [
    "Assignments.Subfields()"
   ]
  },
  {
   "cell_type": "code",
   "execution_count": 9,
   "id": "87388dec-9ab8-4b77-87e1-0e0138e2ea86",
   "metadata": {},
   "outputs": [
    {
     "name": "stdin",
     "output_type": "stream",
     "text": [
      "Enter the number: 5242\n"
     ]
    },
    {
     "name": "stdout",
     "output_type": "stream",
     "text": [
      "The number is EVEN\n"
     ]
    },
    {
     "data": {
      "text/plain": [
       "'Even Number'"
      ]
     },
     "execution_count": 9,
     "metadata": {},
     "output_type": "execute_result"
    }
   ],
   "source": [
    "Assignments.Oddeven()"
   ]
  },
  {
   "cell_type": "code",
   "execution_count": 11,
   "id": "6db83c40-26f7-410f-860c-404fa7138b7d",
   "metadata": {},
   "outputs": [
    {
     "name": "stdin",
     "output_type": "stream",
     "text": [
      "Enter your Gender: Male\n",
      "Enter your Age: 22\n"
     ]
    },
    {
     "name": "stdout",
     "output_type": "stream",
     "text": [
      "Eligible for Marriage\n"
     ]
    }
   ],
   "source": [
    "Assignments.MarriageEligibility()"
   ]
  },
  {
   "cell_type": "code",
   "execution_count": 13,
   "id": "6f742f73-4ba0-4d08-b125-2ebb1820ff6e",
   "metadata": {},
   "outputs": [
    {
     "name": "stdin",
     "output_type": "stream",
     "text": [
      "Subject1= 98\n",
      "Subject2= 87\n",
      "Subject3= 95\n",
      "Subject4= 95\n",
      "Subject5= 93\n"
     ]
    },
    {
     "name": "stdout",
     "output_type": "stream",
     "text": [
      "Total= 468\n",
      "Percentage: 93.6\n"
     ]
    }
   ],
   "source": [
    "Assignments.percentage()"
   ]
  },
  {
   "cell_type": "code",
   "execution_count": 17,
   "id": "d4e88469-2751-47bf-823a-15b8493fc7c4",
   "metadata": {},
   "outputs": [
    {
     "name": "stdin",
     "output_type": "stream",
     "text": [
      "Height: 32\n",
      "Breadth 34\n"
     ]
    },
    {
     "name": "stdout",
     "output_type": "stream",
     "text": [
      "Area Formula:(Height*Breadth)/2\n",
      "Area of the Triangle: 544.0\n"
     ]
    },
    {
     "name": "stdin",
     "output_type": "stream",
     "text": [
      "Height1: 2\n",
      "Height2: 4\n",
      "Breadth: 4\n"
     ]
    },
    {
     "name": "stdout",
     "output_type": "stream",
     "text": [
      "Perimeter formula:Height1+Height2+Breadth\n",
      "Perimeter of the Triangle: 10\n"
     ]
    }
   ],
   "source": [
    "Assignments.Triangle()"
   ]
  },
  {
   "cell_type": "code",
   "execution_count": null,
   "id": "74c35312-c9f1-4ca7-9485-888a56e5892a",
   "metadata": {},
   "outputs": [],
   "source": []
  }
 ],
 "metadata": {
  "kernelspec": {
   "display_name": "Python 3 (ipykernel)",
   "language": "python",
   "name": "python3"
  },
  "language_info": {
   "codemirror_mode": {
    "name": "ipython",
    "version": 3
   },
   "file_extension": ".py",
   "mimetype": "text/x-python",
   "name": "python",
   "nbconvert_exporter": "python",
   "pygments_lexer": "ipython3",
   "version": "3.11.7"
  }
 },
 "nbformat": 4,
 "nbformat_minor": 5
}
