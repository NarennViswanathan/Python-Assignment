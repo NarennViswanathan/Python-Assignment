{
 "cells": [
  {
   "cell_type": "code",
   "execution_count": null,
   "id": "4fdf5643-5e72-4569-bced-3aab4656370a",
   "metadata": {},
   "outputs": [],
   "source": [
    "#1.Creating a function to list out subfields of AI."
   ]
  },
  {
   "cell_type": "code",
   "execution_count": 3,
   "id": "abc7ed25-3b30-4370-a91c-3a3d89d91288",
   "metadata": {},
   "outputs": [],
   "source": [
    "def Subfields():\n",
    "    print(\"Sub-Fields in AI are:\")\n",
    "    Lists=(\"Machine Learning\",\"Neural Networks\",\"Vision\",\"Robotics\",\"Speech Processing\",\"Natural Language Processing\")\n",
    "    for i in Lists:\n",
    "        print(i)\n",
    "    return\n"
   ]
  },
  {
   "cell_type": "code",
   "execution_count": 5,
   "id": "7ee2f2a8-8a37-4f57-ab41-b26ae98ea5c2",
   "metadata": {},
   "outputs": [
    {
     "name": "stdout",
     "output_type": "stream",
     "text": [
      "Sub-Fields in AI are:\n",
      "Machine Learning\n",
      "Neural Networks\n",
      "Vision\n",
      "Robotics\n",
      "Speech Processing\n",
      "Natural Language Processing\n"
     ]
    }
   ],
   "source": [
    "Subfields()"
   ]
  },
  {
   "cell_type": "code",
   "execution_count": null,
   "id": "ec76737a-e628-415c-9138-654bf1636b34",
   "metadata": {},
   "outputs": [],
   "source": [
    "#2.Creating a function to check if the given number is Odd or Even."
   ]
  },
  {
   "cell_type": "code",
   "execution_count": 9,
   "id": "5d80fc7d-e653-4d3b-9ac0-a31c67603641",
   "metadata": {},
   "outputs": [],
   "source": [
    "def Oddeven():\n",
    "    num1=int(input(\"Enter the number:\"))\n",
    "    if num1%2==1:\n",
    "        print(\"The number is ODD\")\n",
    "        message=\"Odd Number\"\n",
    "    else:\n",
    "        print(\"The number is EVEN\")\n",
    "        message=\"Even Number\"\n",
    "        return message\n"
   ]
  },
  {
   "cell_type": "code",
   "execution_count": 11,
   "id": "9a2fd168-152e-4955-93cf-1f9368142384",
   "metadata": {},
   "outputs": [
    {
     "name": "stdin",
     "output_type": "stream",
     "text": [
      "Enter the number: 52452\n"
     ]
    },
    {
     "name": "stdout",
     "output_type": "stream",
     "text": [
      "The number is EVEN\n"
     ]
    },
    {
     "data": {
      "text/plain": [
       "'Even Number'"
      ]
     },
     "execution_count": 11,
     "metadata": {},
     "output_type": "execute_result"
    }
   ],
   "source": [
    "Oddeven()"
   ]
  },
  {
   "cell_type": "code",
   "execution_count": null,
   "id": "ad748724-9d50-45f0-b13a-dc109a563f6b",
   "metadata": {},
   "outputs": [],
   "source": [
    "#3. Creating a function for calulating age elibility for marriage for both Male & Female in India."
   ]
  },
  {
   "cell_type": "code",
   "execution_count": 13,
   "id": "e1496b71-4233-4213-a5de-9e012d1f64de",
   "metadata": {},
   "outputs": [],
   "source": [
    "def MarriageEligibility():\n",
    "    gender=(input(\"Enter your Gender:\"))\n",
    "    age=int(input(\"Enter your Age:\"))\n",
    "    if((gender==\"Male\")&(age>=21)):\n",
    "        print(\"Eligible for Marriage\")\n",
    "    elif((gender==\"Female\")&(age>=18)):\n",
    "        print(\"Eligible for Marriage\")\n",
    "    else:\n",
    "        print(\"Not eligible for Marriage\")\n",
    "    return"
   ]
  },
  {
   "cell_type": "code",
   "execution_count": 15,
   "id": "9a222262-bc5b-4b86-8c3c-dac4e60381d7",
   "metadata": {},
   "outputs": [
    {
     "name": "stdin",
     "output_type": "stream",
     "text": [
      "Enter your Gender: Male\n",
      "Enter your Age: 20\n"
     ]
    },
    {
     "name": "stdout",
     "output_type": "stream",
     "text": [
      "Not eligible for Marriage\n"
     ]
    }
   ],
   "source": [
    "MarriageEligibility()"
   ]
  },
  {
   "cell_type": "code",
   "execution_count": null,
   "id": "a2b874cb-165a-40a8-98db-368eb88866aa",
   "metadata": {},
   "outputs": [],
   "source": [
    "#4.Calculate the percentage of your 10th Marks"
   ]
  },
  {
   "cell_type": "code",
   "execution_count": 19,
   "id": "4bd38ffe-8fee-46f1-9dc8-c36ee865feed",
   "metadata": {},
   "outputs": [],
   "source": [
    "def percentage():\n",
    "    Sub1=int(input(\"Subject1=\"))\n",
    "    Sub2=int(input(\"Subject2=\"))\n",
    "    Sub3=int(input(\"Subject3=\"))\n",
    "    Sub4=int(input(\"Subject4=\"))\n",
    "    Sub5=int(input(\"Subject5=\"))\n",
    "    add=Sub1+Sub2+Sub3+Sub4+Sub5\n",
    "    print(\"Total=\",add)\n",
    "    Average=add/5\n",
    "    print(\"Percentage:\",Average)\n",
    "    return\n"
   ]
  },
  {
   "cell_type": "code",
   "execution_count": 21,
   "id": "f3e22bb6-575b-4a5f-841c-12f6e02c5fdc",
   "metadata": {},
   "outputs": [
    {
     "name": "stdin",
     "output_type": "stream",
     "text": [
      "Subject1= 98\n",
      "Subject2= 87\n",
      "Subject3= 95\n",
      "Subject4= 95\n",
      "Subject5= 93\n"
     ]
    },
    {
     "name": "stdout",
     "output_type": "stream",
     "text": [
      "Total= 468\n",
      "Percentage: 93.6\n"
     ]
    }
   ],
   "source": [
    "percentage()"
   ]
  },
  {
   "cell_type": "code",
   "execution_count": null,
   "id": "920af781-e811-4a45-89c7-6914f21cd238",
   "metadata": {},
   "outputs": [],
   "source": [
    "#5 Create a function to print Area and Perimeter of a Triangle "
   ]
  },
  {
   "cell_type": "code",
   "execution_count": 1,
   "id": "3a4c230e-494b-44f1-bc27-bb42f1f70187",
   "metadata": {},
   "outputs": [],
   "source": [
    "def Triangle():\n",
    "    Height=int(input(\"Height:\"))\n",
    "    Breadth=int(input(\"Breadth\"))\n",
    "    print(\"Area Formula:(Height*Breadth)/2\")\n",
    "    Area=Height*Breadth/2\n",
    "    print(\"Area of the Triangle:\",Area)\n",
    "    Height1=int(input(\"Height1:\"))\n",
    "    Height2=int(input(\"Height2:\"))\n",
    "    Breadth=int(input(\"Breadth:\"))\n",
    "    print(\"Perimeter formula:Height1+Height2+Breadth\")\n",
    "    Perimeter=Height1+Height2+Breadth\n",
    "    print(\"Perimeter of the Triangle:\",Perimeter)\n",
    "    return\n",
    "\n",
    "                   \n",
    "            \n",
    "           "
   ]
  },
  {
   "cell_type": "code",
   "execution_count": 3,
   "id": "129af368-d4d3-43b5-9289-00b537a900a4",
   "metadata": {},
   "outputs": [
    {
     "name": "stdin",
     "output_type": "stream",
     "text": [
      "Height: 32\n",
      "Breadth 34\n"
     ]
    },
    {
     "name": "stdout",
     "output_type": "stream",
     "text": [
      "Area Formula:(Height*Breadth)/2\n",
      "Area of the Triangle: 544.0\n"
     ]
    },
    {
     "name": "stdin",
     "output_type": "stream",
     "text": [
      "Height1: 2\n",
      "Height2: 4\n",
      "Breadth: 4\n"
     ]
    },
    {
     "name": "stdout",
     "output_type": "stream",
     "text": [
      "Perimeter formula:Height1+Height2+Breadth\n",
      "Perimeter of the Triangle: 10\n"
     ]
    }
   ],
   "source": [
    "Triangle()"
   ]
  },
  {
   "cell_type": "code",
   "execution_count": null,
   "id": "8093ce78-80c3-4219-9fc7-fa74db36fdef",
   "metadata": {},
   "outputs": [],
   "source": []
  }
 ],
 "metadata": {
  "kernelspec": {
   "display_name": "Python 3 (ipykernel)",
   "language": "python",
   "name": "python3"
  },
  "language_info": {
   "codemirror_mode": {
    "name": "ipython",
    "version": 3
   },
   "file_extension": ".py",
   "mimetype": "text/x-python",
   "name": "python",
   "nbconvert_exporter": "python",
   "pygments_lexer": "ipython3",
   "version": "3.11.7"
  }
 },
 "nbformat": 4,
 "nbformat_minor": 5
}
