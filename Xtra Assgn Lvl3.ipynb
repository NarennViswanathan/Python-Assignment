{
 "cells": [
  {
   "cell_type": "code",
   "execution_count": 11,
   "id": "3adeff93-faa3-4ac4-8bcd-986e4bfcd901",
   "metadata": {},
   "outputs": [
    {
     "name": "stdout",
     "output_type": "stream",
     "text": [
      "Value:10 \n",
      "Correct\n"
     ]
    }
   ],
   "source": [
    "i=10\n",
    "if (i==10):\n",
    "    print(\"Value:10\",'\\n'\"Correct\")\n",
    "    "
   ]
  },
  {
   "cell_type": "code",
   "execution_count": 11,
   "id": "096b38dc-b0a5-42d1-af44-ea36afd40491",
   "metadata": {},
   "outputs": [
    {
     "name": "stdin",
     "output_type": "stream",
     "text": [
      "Enter Your Password: HOPE@123\n"
     ]
    },
    {
     "name": "stdout",
     "output_type": "stream",
     "text": [
      "Your Password is Correct\n"
     ]
    }
   ],
   "source": [
    "Password=input(\"Enter Your Password:\")\n",
    "Password:tuple[str|int]= (\"HOPE@123\")\n",
    "if Password:=(\"HOPE@123\"):\n",
    "    print(\"Your Password is Correct\")\n",
    "        \n"
   ]
  },
  {
   "cell_type": "code",
   "execution_count": 28,
   "id": "bfdd4e79-90a0-4dcc-9477-9db7b50c3177",
   "metadata": {},
   "outputs": [
    {
     "name": "stdin",
     "output_type": "stream",
     "text": [
      "Enter Your Age: 20\n"
     ]
    },
    {
     "name": "stdout",
     "output_type": "stream",
     "text": [
      "Adult\n"
     ]
    }
   ],
   "source": [
    "Age=int(input(\"Enter Your Age:\"))\n",
    "if (Age<18):\n",
    "    print('Child')\n",
    "elif (Age>18):\n",
    "    print('Adult')\n",
    "elif (Age>35):\n",
    "    print('Citizen')\n",
    "elif (Age>55):\n",
    "    print('Senior Citizen')\n",
    "else:\n",
    "    print('Seniormost Citizen')\n",
    "\n",
    "   \n",
    "    \n",
    "     \n",
    "    \n"
   ]
  },
  {
   "cell_type": "code",
   "execution_count": 34,
   "id": "67775089-f969-4dcc-97de-d88d8171da9f",
   "metadata": {},
   "outputs": [
    {
     "name": "stdin",
     "output_type": "stream",
     "text": [
      "Enter any number: 1\n"
     ]
    },
    {
     "name": "stdout",
     "output_type": "stream",
     "text": [
      "The Number is Positive\n"
     ]
    }
   ],
   "source": [
    "num1=int(input(\"Enter any number:\"))\n",
    "if (num1>0):\n",
    "         print(\"The Number is Positive\")\n",
    "else:\n",
    "         print(\"The number is Negative\")"
   ]
  },
  {
   "cell_type": "code",
   "execution_count": 42,
   "id": "f633a120-6a2c-4f46-9ace-647c84229165",
   "metadata": {},
   "outputs": [
    {
     "name": "stdin",
     "output_type": "stream",
     "text": [
      "Enter any number 22\n"
     ]
    },
    {
     "name": "stdout",
     "output_type": "stream",
     "text": [
      "The Number is indivisible by 5\n"
     ]
    }
   ],
   "source": [
    "num2=int(input(\"Enter any number\"))\n",
    "if num2%5==0:\n",
    "   print(\"The Number is divisible by 5\")\n",
    "else:\n",
    "    print(\"The Number is indivisible by 5\")\n"
   ]
  },
  {
   "cell_type": "code",
   "execution_count": null,
   "id": "5b462642-35f8-4672-8a86-18754cf0253e",
   "metadata": {},
   "outputs": [],
   "source": []
  }
 ],
 "metadata": {
  "kernelspec": {
   "display_name": "Python 3 (ipykernel)",
   "language": "python",
   "name": "python3"
  },
  "language_info": {
   "codemirror_mode": {
    "name": "ipython",
    "version": 3
   },
   "file_extension": ".py",
   "mimetype": "text/x-python",
   "name": "python",
   "nbconvert_exporter": "python",
   "pygments_lexer": "ipython3",
   "version": "3.11.7"
  }
 },
 "nbformat": 4,
 "nbformat_minor": 5
}
