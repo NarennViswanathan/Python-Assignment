{
 "cells": [
  {
   "cell_type": "code",
   "execution_count": 1,
   "id": "53a9c040-e21e-4e7f-902d-a625a1cc2242",
   "metadata": {},
   "outputs": [
    {
     "name": "stdout",
     "output_type": "stream",
     "text": [
      "HOPE AI\n"
     ]
    }
   ],
   "source": [
    "print(\"HOPE AI\")\n"
   ]
  },
  {
   "cell_type": "code",
   "execution_count": 9,
   "id": "b07cb34d-c1bb-4014-9f9a-e6196b24ed7c",
   "metadata": {},
   "outputs": [
    {
     "name": "stdin",
     "output_type": "stream",
     "text": [
      "Enter your Name: HOPE AI\n",
      "Enter your Age: 15\n",
      "Enter your School Name: Guru School\n",
      "Enter your Degree: B.E. CSE\n"
     ]
    }
   ],
   "source": [
    "str1=input(\"Enter your Name:\")\n",
    "age=int(input(\"Enter your Age:\"))\n",
    "str2=input(\"Enter your School Name:\")\n",
    "Str3=input(\"Enter your Degree:\")\n"
   ]
  },
  {
   "cell_type": "code",
   "execution_count": 47,
   "id": "ed352b42-7acd-490c-a0cb-cac4a0c6983d",
   "metadata": {},
   "outputs": [
    {
     "name": "stdout",
     "output_type": "stream",
     "text": [
      "a=43\n",
      "b=34\n",
      "Add: 77\n"
     ]
    }
   ],
   "source": [
    "a=43\n",
    "b=34\n",
    "print(\"a=43\")\n",
    "print(\"b=34\")\n",
    "Sum=a+b\n",
    "print(\"Add:\",Sum)"
   ]
  },
  {
   "cell_type": "code",
   "execution_count": 49,
   "id": "9b14fca3-8312-41f1-a0c6-dc8ce2abc5fc",
   "metadata": {},
   "outputs": [
    {
     "name": "stdout",
     "output_type": "stream",
     "text": [
      "a=43\n",
      "b=34\n",
      "Sub: 9\n"
     ]
    }
   ],
   "source": [
    "a=43\n",
    "b=34\n",
    "print(\"a=43\")\n",
    "print(\"b=34\")\n",
    "Minus=a-b\n",
    "print(\"Sub:\", Minus)"
   ]
  },
  {
   "cell_type": "code",
   "execution_count": 51,
   "id": "2d9069e0-596d-42ff-8b0d-8dc88bea50e2",
   "metadata": {},
   "outputs": [
    {
     "name": "stdout",
     "output_type": "stream",
     "text": [
      "a=63\n",
      "b=97\n",
      "Mul: 6111\n"
     ]
    }
   ],
   "source": [
    "a=63\n",
    "b=97\n",
    "print(\"a=63\")\n",
    "print(\"b=97\")\n",
    "Product=a*b\n",
    "print(\"Mul:\",Product)"
   ]
  },
  {
   "cell_type": "code",
   "execution_count": 53,
   "id": "254bd690-25c6-4d4a-8ae2-875373ef8a70",
   "metadata": {},
   "outputs": [
    {
     "name": "stdout",
     "output_type": "stream",
     "text": [
      "a=76\n",
      "b=31\n",
      "Float: 2.4516129032258065\n"
     ]
    }
   ],
   "source": [
    "a=76\n",
    "b=31\n",
    "print(\"a=76\")\n",
    "print(\"b=31\")\n",
    "Div=a/b\n",
    "print(\"Float:\",Div)"
   ]
  },
  {
   "cell_type": "code",
   "execution_count": 55,
   "id": "21f25b45-5853-49ec-8553-311b06957d52",
   "metadata": {},
   "outputs": [
    {
     "name": "stdout",
     "output_type": "stream",
     "text": [
      "a=76\n",
      "b=31\n",
      "Floor: 2\n"
     ]
    }
   ],
   "source": [
    "a=76\n",
    "b=31\n",
    "print(\"a=76\")\n",
    "print(\"b=31\")\n",
    "floor=a//b\n",
    "print(\"Floor:\",floor)"
   ]
  },
  {
   "cell_type": "code",
   "execution_count": 57,
   "id": "623015c9-2214-4f67-a197-581e2cfe9bd2",
   "metadata": {},
   "outputs": [
    {
     "name": "stdout",
     "output_type": "stream",
     "text": [
      "a=76\n",
      "b=31\n",
      "Modulo: 14\n"
     ]
    }
   ],
   "source": [
    "a=76\n",
    "b=31\n",
    "print(\"a=76\")\n",
    "print(\"b=31\")\n",
    "Mod=a%b\n",
    "print(\"Modulo:\",Mod)"
   ]
  },
  {
   "cell_type": "code",
   "execution_count": 59,
   "id": "16eeb618-952b-4036-93bb-27270a08f3bc",
   "metadata": {},
   "outputs": [
    {
     "name": "stdout",
     "output_type": "stream",
     "text": [
      "a=4\n",
      "b=4\n",
      "Power: 256\n"
     ]
    }
   ],
   "source": [
    "a=4\n",
    "b=4\n",
    "print(\"a=4\")\n",
    "print(\"b=4\")\n",
    "prw=pow(4,4)\n",
    "print(\"Power:\",prw)"
   ]
  },
  {
   "cell_type": "code",
   "execution_count": null,
   "id": "cf6471d3-c0ba-4e14-829f-3a60182cba52",
   "metadata": {},
   "outputs": [],
   "source": []
  }
 ],
 "metadata": {
  "kernelspec": {
   "display_name": "Python 3 (ipykernel)",
   "language": "python",
   "name": "python3"
  },
  "language_info": {
   "codemirror_mode": {
    "name": "ipython",
    "version": 3
   },
   "file_extension": ".py",
   "mimetype": "text/x-python",
   "name": "python",
   "nbconvert_exporter": "python",
   "pygments_lexer": "ipython3",
   "version": "3.11.7"
  }
 },
 "nbformat": 4,
 "nbformat_minor": 5
}
