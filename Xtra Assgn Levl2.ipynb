{
 "cells": [
  {
   "cell_type": "code",
   "execution_count": 87,
   "id": "f7ced7f2-1af8-4ea9-8d55-31a3f5725e30",
   "metadata": {},
   "outputs": [
    {
     "name": "stdout",
     "output_type": "stream",
     "text": [
      "0\n",
      "1\n",
      "2\n",
      "3\n",
      "4\n",
      "5\n",
      "6\n",
      "7\n",
      "8\n",
      "9\n",
      "10\n",
      "11\n",
      "12\n",
      "13\n",
      "14\n",
      "15\n",
      "16\n",
      "17\n",
      "18\n",
      "19\n"
     ]
    }
   ],
   "source": [
    "My_List=[*range(0,20,1)]\n",
    "print(*My_List, sep='\\n')"
   ]
  },
  {
   "cell_type": "code",
   "execution_count": 33,
   "id": "b6a62cca-d229-41c7-841e-0e36896d6770",
   "metadata": {},
   "outputs": [
    {
     "name": "stdout",
     "output_type": "stream",
     "text": [
      "[10, 11, 12, 13, 14, 15, 16, 17, 18, 19]\n"
     ]
    }
   ],
   "source": [
    "List1=[*range(10,20)]\n",
    "print(List1)"
   ]
  },
  {
   "cell_type": "code",
   "execution_count": 43,
   "id": "886aa49d-b586-47dd-943b-f3cf1eb8a0bd",
   "metadata": {},
   "outputs": [
    {
     "name": "stdout",
     "output_type": "stream",
     "text": [
      "[10,20,14,55,43,67,76]\n",
      "Number of items in List2: 7\n"
     ]
    }
   ],
   "source": [
    "List2=[10,20,14,55,43,67,76]\n",
    "print(\"[10,20,14,55,43,67,76]\")\n",
    "print(\"Number of items in List2:\",len(List2))\n",
    "      "
   ]
  },
  {
   "cell_type": "code",
   "execution_count": 19,
   "id": "91c7fb3d-a4c8-4286-9163-7e19f16cdf97",
   "metadata": {},
   "outputs": [
    {
     "name": "stdout",
     "output_type": "stream",
     "text": [
      "Artificial Intelligence\n",
      "A\n",
      "r\n",
      "t\n",
      "i\n",
      "f\n",
      "i\n",
      "c\n",
      "i\n",
      "a\n",
      "l\n",
      " \n",
      "I\n",
      "n\n",
      "t\n",
      "e\n",
      "l\n",
      "l\n",
      "i\n",
      "g\n",
      "e\n",
      "n\n",
      "c\n",
      "e\n"
     ]
    }
   ],
   "source": [
    "Lists=('Artificial Intelligence')\n",
    "print(Lists)\n",
    "print(*Lists,sep='\\n')\n"
   ]
  },
  {
   "cell_type": "code",
   "execution_count": 123,
   "id": "502670f5-7abd-4373-a878-cee835176815",
   "metadata": {},
   "outputs": [
    {
     "name": "stdout",
     "output_type": "stream",
     "text": [
      "-Your Name-\n",
      "-Your Age-\n",
      "-Your Profession-\n"
     ]
    }
   ],
   "source": [
    "List3=['-Your Name-','-Your Age-','-Your Profession-' ]\n",
    "print(*List3, sep='\\n')\n"
   ]
  },
  {
   "cell_type": "code",
   "execution_count": 53,
   "id": "d98f7553-f2d4-42fd-86a7-2703236fc690",
   "metadata": {},
   "outputs": [
    {
     "name": "stdout",
     "output_type": "stream",
     "text": [
      "(1, 'welcome', 2, 'Hope')\n"
     ]
    }
   ],
   "source": [
    "values:tuple[int |str,] = (1,\"welcome\",2,\"Hope\") \n",
    "print(values)"
   ]
  },
  {
   "cell_type": "code",
   "execution_count": 87,
   "id": "d0263f83-9c67-48af-9128-8fc6dc78971f",
   "metadata": {},
   "outputs": [
    {
     "name": "stdout",
     "output_type": "stream",
     "text": [
      "((0, 1, 2, 3), ('python', 'HOPE'))\n"
     ]
    }
   ],
   "source": [
    "tuple1=(0,1,2,3)\n",
    "tuple2=('python','HOPE')\n",
    "tuple3=(tuple1,tuple2)\n",
    "print(tuple3)\n"
   ]
  },
  {
   "cell_type": "code",
   "execution_count": 83,
   "id": "a8bbcb75-8938-4101-a85a-1f624999e4d2",
   "metadata": {},
   "outputs": [
    {
     "name": "stdout",
     "output_type": "stream",
     "text": [
      "19 is Odd\n",
      "25 is Odd\n",
      "1 is Odd\n"
     ]
    }
   ],
   "source": [
    "List=[0,10,16,19,25,1,276,188]\n",
    "for num in List:\n",
    "  if num % 2 !=0:\n",
    "      print(num, 'is Odd')"
   ]
  },
  {
   "cell_type": "code",
   "execution_count": 85,
   "id": "8a8170e9-e2e9-4581-b845-e84a89be2a28",
   "metadata": {},
   "outputs": [
    {
     "name": "stdout",
     "output_type": "stream",
     "text": [
      "0 is Even\n",
      "10 is Even\n",
      "16 is Even\n",
      "276 is Even\n",
      "188 is Even\n"
     ]
    }
   ],
   "source": [
    "List=[0,10,16,19,25,1,276,188]\n",
    "for num in List:\n",
    "  if num % 2 !=1:\n",
    "      print(num, 'is Even')"
   ]
  },
  {
   "cell_type": "code",
   "execution_count": null,
   "id": "17a6983e-2282-4b52-83c3-d204372ffcc0",
   "metadata": {},
   "outputs": [],
   "source": []
  }
 ],
 "metadata": {
  "kernelspec": {
   "display_name": "Python 3 (ipykernel)",
   "language": "python",
   "name": "python3"
  },
  "language_info": {
   "codemirror_mode": {
    "name": "ipython",
    "version": 3
   },
   "file_extension": ".py",
   "mimetype": "text/x-python",
   "name": "python",
   "nbconvert_exporter": "python",
   "pygments_lexer": "ipython3",
   "version": "3.11.7"
  }
 },
 "nbformat": 4,
 "nbformat_minor": 5
}
